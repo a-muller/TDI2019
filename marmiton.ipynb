{
 "cells": [
  {
   "cell_type": "code",
   "execution_count": 1,
   "metadata": {},
   "outputs": [],
   "source": [
    "import pandas as pd\n",
    "import numpy as np\n",
    "import matplotlib.pyplot as plt\n",
    "%matplotlib inline"
   ]
  },
  {
   "cell_type": "markdown",
   "metadata": {},
   "source": [
    "# 1. Data loading"
   ]
  },
  {
   "cell_type": "code",
   "execution_count": 2,
   "metadata": {},
   "outputs": [],
   "source": [
    "df = pd.read_json('results.jl', lines=True, dtype={'note' : float, 'nombre_partages' : int, 'nombre_personnes' : int})\n",
    "df = df.drop_duplicates(subset='url')"
   ]
  },
  {
   "cell_type": "code",
   "execution_count": 3,
   "metadata": {},
   "outputs": [
    {
     "data": {
      "text/html": [
       "<div>\n",
       "<style scoped>\n",
       "    .dataframe tbody tr th:only-of-type {\n",
       "        vertical-align: middle;\n",
       "    }\n",
       "\n",
       "    .dataframe tbody tr th {\n",
       "        vertical-align: top;\n",
       "    }\n",
       "\n",
       "    .dataframe thead th {\n",
       "        text-align: right;\n",
       "    }\n",
       "</style>\n",
       "<table border=\"1\" class=\"dataframe\">\n",
       "  <thead>\n",
       "    <tr style=\"text-align: right;\">\n",
       "      <th></th>\n",
       "      <th>auteur</th>\n",
       "      <th>budget</th>\n",
       "      <th>ingredients</th>\n",
       "      <th>niveau</th>\n",
       "      <th>nombre_ajouts_carnets</th>\n",
       "      <th>nombre_commentaires</th>\n",
       "      <th>nombre_partages</th>\n",
       "      <th>nombre_personnes</th>\n",
       "      <th>note</th>\n",
       "      <th>tags</th>\n",
       "      <th>temps</th>\n",
       "      <th>titre</th>\n",
       "      <th>type</th>\n",
       "      <th>url</th>\n",
       "    </tr>\n",
       "  </thead>\n",
       "  <tbody>\n",
       "    <tr>\n",
       "      <th>0</th>\n",
       "      <td>Anonyme</td>\n",
       "      <td>bon marché</td>\n",
       "      <td>{'g de farine': '300', ' oeufs': '3', 'cuillèr...</td>\n",
       "      <td>facile</td>\n",
       "      <td>28k</td>\n",
       "      <td>530 commentaires</td>\n",
       "      <td>2839</td>\n",
       "      <td>15</td>\n",
       "      <td>3.8</td>\n",
       "      <td>[Végétarien, Crêpe, Pâte à crêpes, Chandeleur]</td>\n",
       "      <td>NaN</td>\n",
       "      <td>Pâte à crêpes</td>\n",
       "      <td>Dessert</td>\n",
       "      <td>https://www.marmiton.org/recettes/recette_pate...</td>\n",
       "    </tr>\n",
       "    <tr>\n",
       "      <th>1</th>\n",
       "      <td>Anonyme</td>\n",
       "      <td>bon marché</td>\n",
       "      <td>{' pommes': '6', 'g de cassonade': '150', 'g d...</td>\n",
       "      <td>très facile</td>\n",
       "      <td>103k</td>\n",
       "      <td>1999 commentaires</td>\n",
       "      <td>479</td>\n",
       "      <td>6</td>\n",
       "      <td>4.8</td>\n",
       "      <td>[Végétarien, Crumble, Crumble aux pommes, Les ...</td>\n",
       "      <td>NaN</td>\n",
       "      <td>Le crumble aux pommes du Chat qui Tousse</td>\n",
       "      <td>Dessert</td>\n",
       "      <td>https://www.marmiton.org/recettes/recette_le-c...</td>\n",
       "    </tr>\n",
       "    <tr>\n",
       "      <th>2</th>\n",
       "      <td>Elodie_1752</td>\n",
       "      <td>bon marché</td>\n",
       "      <td>{'g de farine': '200', 'g de sucre': '30', ' o...</td>\n",
       "      <td>très facile</td>\n",
       "      <td>12k</td>\n",
       "      <td>120 commentaires</td>\n",
       "      <td>1051</td>\n",
       "      <td>15</td>\n",
       "      <td>4.2</td>\n",
       "      <td>[Gaufre]</td>\n",
       "      <td>NaN</td>\n",
       "      <td>Gaufres faciles et légères</td>\n",
       "      <td>Dessert</td>\n",
       "      <td>https://www.marmiton.org/recettes/recette_gauf...</td>\n",
       "    </tr>\n",
       "    <tr>\n",
       "      <th>3</th>\n",
       "      <td>Marguerite_9</td>\n",
       "      <td>bon marché</td>\n",
       "      <td>{'cl de crème fraîche liquide': '50', 'g de su...</td>\n",
       "      <td>très facile</td>\n",
       "      <td>17k</td>\n",
       "      <td>232 commentaires</td>\n",
       "      <td>105</td>\n",
       "      <td>2</td>\n",
       "      <td>4.5</td>\n",
       "      <td>[Végétarien, Sans gluten, Rapide, Crème, Crème...</td>\n",
       "      <td>NaN</td>\n",
       "      <td>Crème Chantilly</td>\n",
       "      <td>Dessert</td>\n",
       "      <td>https://www.marmiton.org/recettes/recette_crem...</td>\n",
       "    </tr>\n",
       "    <tr>\n",
       "      <th>4</th>\n",
       "      <td>Celia_3</td>\n",
       "      <td>bon marché</td>\n",
       "      <td>{' blancs d'oeuf': '4', 'g de sucre semoule': ...</td>\n",
       "      <td>très facile</td>\n",
       "      <td>72k</td>\n",
       "      <td>1426 commentaires</td>\n",
       "      <td>813</td>\n",
       "      <td>20</td>\n",
       "      <td>4.8</td>\n",
       "      <td>[Végétarien, Sans gluten, Petits gâteaux, Gâte...</td>\n",
       "      <td>NaN</td>\n",
       "      <td>Meringue pour les nuls</td>\n",
       "      <td>Dessert</td>\n",
       "      <td>https://www.marmiton.org/recettes/recette_meri...</td>\n",
       "    </tr>\n",
       "  </tbody>\n",
       "</table>\n",
       "</div>"
      ],
      "text/plain": [
       "         auteur      budget  \\\n",
       "0       Anonyme  bon marché   \n",
       "1       Anonyme  bon marché   \n",
       "2   Elodie_1752  bon marché   \n",
       "3  Marguerite_9  bon marché   \n",
       "4       Celia_3  bon marché   \n",
       "\n",
       "                                         ingredients       niveau  \\\n",
       "0  {'g de farine': '300', ' oeufs': '3', 'cuillèr...       facile   \n",
       "1  {' pommes': '6', 'g de cassonade': '150', 'g d...  très facile   \n",
       "2  {'g de farine': '200', 'g de sucre': '30', ' o...  très facile   \n",
       "3  {'cl de crème fraîche liquide': '50', 'g de su...  très facile   \n",
       "4  {' blancs d'oeuf': '4', 'g de sucre semoule': ...  très facile   \n",
       "\n",
       "  nombre_ajouts_carnets nombre_commentaires  nombre_partages nombre_personnes  \\\n",
       "0                   28k    530 commentaires             2839               15   \n",
       "1                  103k   1999 commentaires              479                6   \n",
       "2                   12k    120 commentaires             1051               15   \n",
       "3                   17k    232 commentaires              105                2   \n",
       "4                   72k   1426 commentaires              813               20   \n",
       "\n",
       "   note                                               tags  temps  \\\n",
       "0   3.8     [Végétarien, Crêpe, Pâte à crêpes, Chandeleur]    NaN   \n",
       "1   4.8  [Végétarien, Crumble, Crumble aux pommes, Les ...    NaN   \n",
       "2   4.2                                           [Gaufre]    NaN   \n",
       "3   4.5  [Végétarien, Sans gluten, Rapide, Crème, Crème...    NaN   \n",
       "4   4.8  [Végétarien, Sans gluten, Petits gâteaux, Gâte...    NaN   \n",
       "\n",
       "                                      titre     type  \\\n",
       "0                             Pâte à crêpes  Dessert   \n",
       "1  Le crumble aux pommes du Chat qui Tousse  Dessert   \n",
       "2                Gaufres faciles et légères  Dessert   \n",
       "3                           Crème Chantilly  Dessert   \n",
       "4                    Meringue pour les nuls  Dessert   \n",
       "\n",
       "                                                 url  \n",
       "0  https://www.marmiton.org/recettes/recette_pate...  \n",
       "1  https://www.marmiton.org/recettes/recette_le-c...  \n",
       "2  https://www.marmiton.org/recettes/recette_gauf...  \n",
       "3  https://www.marmiton.org/recettes/recette_crem...  \n",
       "4  https://www.marmiton.org/recettes/recette_meri...  "
      ]
     },
     "execution_count": 3,
     "metadata": {},
     "output_type": "execute_result"
    }
   ],
   "source": [
    "df.head()"
   ]
  },
  {
   "cell_type": "markdown",
   "metadata": {},
   "source": [
    "# 2. Data cleaning\n",
    "First we transform the number of comment into integers."
   ]
  },
  {
   "cell_type": "code",
   "execution_count": 4,
   "metadata": {},
   "outputs": [],
   "source": [
    "df['nombre_commentaires'] = pd.to_numeric(df['nombre_commentaires'].str.strip('s').str.strip(' commentaire'))"
   ]
  },
  {
   "cell_type": "markdown",
   "metadata": {},
   "source": [
    "We then convert the number of 'ajouts_carnets' ('adding to personal records') into integers."
   ]
  },
  {
   "cell_type": "code",
   "execution_count": 5,
   "metadata": {},
   "outputs": [],
   "source": [
    "def transform_ajout(string):\n",
    "    return int(float(string.strip('k'))*10**3)"
   ]
  },
  {
   "cell_type": "code",
   "execution_count": 6,
   "metadata": {},
   "outputs": [],
   "source": [
    "df['nombre_ajouts_carnets'] = df['nombre_ajouts_carnets'].apply(transform_ajout)"
   ]
  },
  {
   "cell_type": "markdown",
   "metadata": {},
   "source": [
    "Adding a column counting the number of ingredients in a recipe"
   ]
  },
  {
   "cell_type": "code",
   "execution_count": 7,
   "metadata": {},
   "outputs": [],
   "source": [
    "def number_ingredients(dic):\n",
    "    return len(dic)\n",
    "df['nombre_ingredients'] = df['ingredients'].apply(number_ingredients)"
   ]
  },
  {
   "cell_type": "code",
   "execution_count": 8,
   "metadata": {},
   "outputs": [
    {
     "data": {
      "text/html": [
       "<div>\n",
       "<style scoped>\n",
       "    .dataframe tbody tr th:only-of-type {\n",
       "        vertical-align: middle;\n",
       "    }\n",
       "\n",
       "    .dataframe tbody tr th {\n",
       "        vertical-align: top;\n",
       "    }\n",
       "\n",
       "    .dataframe thead th {\n",
       "        text-align: right;\n",
       "    }\n",
       "</style>\n",
       "<table border=\"1\" class=\"dataframe\">\n",
       "  <thead>\n",
       "    <tr style=\"text-align: right;\">\n",
       "      <th></th>\n",
       "      <th>auteur</th>\n",
       "      <th>budget</th>\n",
       "      <th>ingredients</th>\n",
       "      <th>niveau</th>\n",
       "      <th>nombre_ajouts_carnets</th>\n",
       "      <th>nombre_commentaires</th>\n",
       "      <th>nombre_partages</th>\n",
       "      <th>nombre_personnes</th>\n",
       "      <th>note</th>\n",
       "      <th>tags</th>\n",
       "      <th>temps</th>\n",
       "      <th>titre</th>\n",
       "      <th>type</th>\n",
       "      <th>url</th>\n",
       "      <th>nombre_ingredients</th>\n",
       "    </tr>\n",
       "  </thead>\n",
       "  <tbody>\n",
       "    <tr>\n",
       "      <th>0</th>\n",
       "      <td>Anonyme</td>\n",
       "      <td>bon marché</td>\n",
       "      <td>{'g de farine': '300', ' oeufs': '3', 'cuillèr...</td>\n",
       "      <td>facile</td>\n",
       "      <td>28000</td>\n",
       "      <td>530</td>\n",
       "      <td>2839</td>\n",
       "      <td>15</td>\n",
       "      <td>3.8</td>\n",
       "      <td>[Végétarien, Crêpe, Pâte à crêpes, Chandeleur]</td>\n",
       "      <td>NaN</td>\n",
       "      <td>Pâte à crêpes</td>\n",
       "      <td>Dessert</td>\n",
       "      <td>https://www.marmiton.org/recettes/recette_pate...</td>\n",
       "      <td>7</td>\n",
       "    </tr>\n",
       "    <tr>\n",
       "      <th>1</th>\n",
       "      <td>Anonyme</td>\n",
       "      <td>bon marché</td>\n",
       "      <td>{' pommes': '6', 'g de cassonade': '150', 'g d...</td>\n",
       "      <td>très facile</td>\n",
       "      <td>103000</td>\n",
       "      <td>1999</td>\n",
       "      <td>479</td>\n",
       "      <td>6</td>\n",
       "      <td>4.8</td>\n",
       "      <td>[Végétarien, Crumble, Crumble aux pommes, Les ...</td>\n",
       "      <td>NaN</td>\n",
       "      <td>Le crumble aux pommes du Chat qui Tousse</td>\n",
       "      <td>Dessert</td>\n",
       "      <td>https://www.marmiton.org/recettes/recette_le-c...</td>\n",
       "      <td>7</td>\n",
       "    </tr>\n",
       "    <tr>\n",
       "      <th>2</th>\n",
       "      <td>Elodie_1752</td>\n",
       "      <td>bon marché</td>\n",
       "      <td>{'g de farine': '200', 'g de sucre': '30', ' o...</td>\n",
       "      <td>très facile</td>\n",
       "      <td>12000</td>\n",
       "      <td>120</td>\n",
       "      <td>1051</td>\n",
       "      <td>15</td>\n",
       "      <td>4.2</td>\n",
       "      <td>[Gaufre]</td>\n",
       "      <td>NaN</td>\n",
       "      <td>Gaufres faciles et légères</td>\n",
       "      <td>Dessert</td>\n",
       "      <td>https://www.marmiton.org/recettes/recette_gauf...</td>\n",
       "      <td>6</td>\n",
       "    </tr>\n",
       "    <tr>\n",
       "      <th>3</th>\n",
       "      <td>Marguerite_9</td>\n",
       "      <td>bon marché</td>\n",
       "      <td>{'cl de crème fraîche liquide': '50', 'g de su...</td>\n",
       "      <td>très facile</td>\n",
       "      <td>17000</td>\n",
       "      <td>232</td>\n",
       "      <td>105</td>\n",
       "      <td>2</td>\n",
       "      <td>4.5</td>\n",
       "      <td>[Végétarien, Sans gluten, Rapide, Crème, Crème...</td>\n",
       "      <td>NaN</td>\n",
       "      <td>Crème Chantilly</td>\n",
       "      <td>Dessert</td>\n",
       "      <td>https://www.marmiton.org/recettes/recette_crem...</td>\n",
       "      <td>2</td>\n",
       "    </tr>\n",
       "    <tr>\n",
       "      <th>4</th>\n",
       "      <td>Celia_3</td>\n",
       "      <td>bon marché</td>\n",
       "      <td>{' blancs d'oeuf': '4', 'g de sucre semoule': ...</td>\n",
       "      <td>très facile</td>\n",
       "      <td>72000</td>\n",
       "      <td>1426</td>\n",
       "      <td>813</td>\n",
       "      <td>20</td>\n",
       "      <td>4.8</td>\n",
       "      <td>[Végétarien, Sans gluten, Petits gâteaux, Gâte...</td>\n",
       "      <td>NaN</td>\n",
       "      <td>Meringue pour les nuls</td>\n",
       "      <td>Dessert</td>\n",
       "      <td>https://www.marmiton.org/recettes/recette_meri...</td>\n",
       "      <td>2</td>\n",
       "    </tr>\n",
       "  </tbody>\n",
       "</table>\n",
       "</div>"
      ],
      "text/plain": [
       "         auteur      budget  \\\n",
       "0       Anonyme  bon marché   \n",
       "1       Anonyme  bon marché   \n",
       "2   Elodie_1752  bon marché   \n",
       "3  Marguerite_9  bon marché   \n",
       "4       Celia_3  bon marché   \n",
       "\n",
       "                                         ingredients       niveau  \\\n",
       "0  {'g de farine': '300', ' oeufs': '3', 'cuillèr...       facile   \n",
       "1  {' pommes': '6', 'g de cassonade': '150', 'g d...  très facile   \n",
       "2  {'g de farine': '200', 'g de sucre': '30', ' o...  très facile   \n",
       "3  {'cl de crème fraîche liquide': '50', 'g de su...  très facile   \n",
       "4  {' blancs d'oeuf': '4', 'g de sucre semoule': ...  très facile   \n",
       "\n",
       "   nombre_ajouts_carnets  nombre_commentaires  nombre_partages  \\\n",
       "0                  28000                  530             2839   \n",
       "1                 103000                 1999              479   \n",
       "2                  12000                  120             1051   \n",
       "3                  17000                  232              105   \n",
       "4                  72000                 1426              813   \n",
       "\n",
       "  nombre_personnes  note                                               tags  \\\n",
       "0               15   3.8     [Végétarien, Crêpe, Pâte à crêpes, Chandeleur]   \n",
       "1                6   4.8  [Végétarien, Crumble, Crumble aux pommes, Les ...   \n",
       "2               15   4.2                                           [Gaufre]   \n",
       "3                2   4.5  [Végétarien, Sans gluten, Rapide, Crème, Crème...   \n",
       "4               20   4.8  [Végétarien, Sans gluten, Petits gâteaux, Gâte...   \n",
       "\n",
       "   temps                                     titre     type  \\\n",
       "0    NaN                             Pâte à crêpes  Dessert   \n",
       "1    NaN  Le crumble aux pommes du Chat qui Tousse  Dessert   \n",
       "2    NaN                Gaufres faciles et légères  Dessert   \n",
       "3    NaN                           Crème Chantilly  Dessert   \n",
       "4    NaN                    Meringue pour les nuls  Dessert   \n",
       "\n",
       "                                                 url  nombre_ingredients  \n",
       "0  https://www.marmiton.org/recettes/recette_pate...                   7  \n",
       "1  https://www.marmiton.org/recettes/recette_le-c...                   7  \n",
       "2  https://www.marmiton.org/recettes/recette_gauf...                   6  \n",
       "3  https://www.marmiton.org/recettes/recette_crem...                   2  \n",
       "4  https://www.marmiton.org/recettes/recette_meri...                   2  "
      ]
     },
     "execution_count": 8,
     "metadata": {},
     "output_type": "execute_result"
    }
   ],
   "source": [
    "df.head()"
   ]
  },
  {
   "cell_type": "markdown",
   "metadata": {},
   "source": [
    "# 3. Exploration"
   ]
  },
  {
   "cell_type": "markdown",
   "metadata": {},
   "source": [
    "## 3.a Number of recipes by type"
   ]
  },
  {
   "cell_type": "code",
   "execution_count": 9,
   "metadata": {},
   "outputs": [
    {
     "data": {
      "text/plain": [
       "<matplotlib.axes._subplots.AxesSubplot at 0x7f4f551fffd0>"
      ]
     },
     "execution_count": 9,
     "metadata": {},
     "output_type": "execute_result"
    },
    {
     "data": {
      "image/png": "[encoded data removed]",
      "text/plain": [
       "<Figure size 432x288 with 1 Axes>"
      ]
     },
     "metadata": {
      "needs_background": "light"
     },
     "output_type": "display_data"
    }
   ],
   "source": [
    "df_types = df.groupby('type').size()\n",
    "df_types_sorted = df_types.sort_values(ascending=False)\n",
    "df_types_sorted.plot(kind='bar')"
   ]
  },
  {
   "cell_type": "markdown",
   "metadata": {},
   "source": [
    "## 3.b Number of recipes by difficulty"
   ]
  },
  {
   "cell_type": "code",
   "execution_count": 10,
   "metadata": {},
   "outputs": [
    {
     "data": {
      "text/plain": [
       "<matplotlib.axes._subplots.AxesSubplot at 0x7f4f55248a90>"
      ]
     },
     "execution_count": 10,
     "metadata": {},
     "output_type": "execute_result"
    },
    {
     "data": {
      "image/png": "[encoded data removed]",
      "text/plain": [
       "<Figure size 432x288 with 1 Axes>"
      ]
     },
     "metadata": {
      "needs_background": "light"
     },
     "output_type": "display_data"
    }
   ],
   "source": [
    "df_difficulty = df.groupby('niveau').size()\n",
    "df_difficulty_sorted = df_difficulty.sort_values(ascending = False)\n",
    "df_difficulty_sorted.plot(kind='bar')"
   ]
  },
  {
   "cell_type": "markdown",
   "metadata": {},
   "source": [
    "People are not very fond of difficult recipes and tend to like easy or very easy recipes."
   ]
  },
  {
   "cell_type": "markdown",
   "metadata": {},
   "source": [
    "## 3.c Most popular recipes"
   ]
  },
  {
   "cell_type": "markdown",
   "metadata": {},
   "source": [
    "First, we look at the top 10 recipes obtained by number of comments."
   ]
  },
  {
   "cell_type": "code",
   "execution_count": 11,
   "metadata": {},
   "outputs": [
    {
     "data": {
      "text/html": [
       "<div>\n",
       "<style scoped>\n",
       "    .dataframe tbody tr th:only-of-type {\n",
       "        vertical-align: middle;\n",
       "    }\n",
       "\n",
       "    .dataframe tbody tr th {\n",
       "        vertical-align: top;\n",
       "    }\n",
       "\n",
       "    .dataframe thead th {\n",
       "        text-align: right;\n",
       "    }\n",
       "</style>\n",
       "<table border=\"1\" class=\"dataframe\">\n",
       "  <thead>\n",
       "    <tr style=\"text-align: right;\">\n",
       "      <th></th>\n",
       "      <th>titre</th>\n",
       "      <th>type</th>\n",
       "      <th>note</th>\n",
       "    </tr>\n",
       "  </thead>\n",
       "  <tbody>\n",
       "    <tr>\n",
       "      <th>2550</th>\n",
       "      <td>Ramequins fondants au chocolat</td>\n",
       "      <td>Dessert</td>\n",
       "      <td>4.8</td>\n",
       "    </tr>\n",
       "    <tr>\n",
       "      <th>423</th>\n",
       "      <td>'The' tarte au citron meringuée</td>\n",
       "      <td>Dessert</td>\n",
       "      <td>4.7</td>\n",
       "    </tr>\n",
       "    <tr>\n",
       "      <th>24</th>\n",
       "      <td>Tiramisu (recette originale)</td>\n",
       "      <td>Dessert</td>\n",
       "      <td>4.8</td>\n",
       "    </tr>\n",
       "    <tr>\n",
       "      <th>45</th>\n",
       "      <td>Blanquette de veau facile</td>\n",
       "      <td>Plat principal</td>\n",
       "      <td>4.9</td>\n",
       "    </tr>\n",
       "    <tr>\n",
       "      <th>1</th>\n",
       "      <td>Le crumble aux pommes du Chat qui Tousse</td>\n",
       "      <td>Dessert</td>\n",
       "      <td>4.8</td>\n",
       "    </tr>\n",
       "    <tr>\n",
       "      <th>172</th>\n",
       "      <td>Gâteau au yaourt</td>\n",
       "      <td>Dessert</td>\n",
       "      <td>4.6</td>\n",
       "    </tr>\n",
       "    <tr>\n",
       "      <th>26</th>\n",
       "      <td>Véritable moelleux au chocolat</td>\n",
       "      <td>Dessert</td>\n",
       "      <td>4.6</td>\n",
       "    </tr>\n",
       "    <tr>\n",
       "      <th>16468</th>\n",
       "      <td>Les Timbales de Jeanne (saumon à la mousse de ...</td>\n",
       "      <td>Entrée</td>\n",
       "      <td>4.8</td>\n",
       "    </tr>\n",
       "    <tr>\n",
       "      <th>117</th>\n",
       "      <td>Gâteau aux pommes facile</td>\n",
       "      <td>Dessert</td>\n",
       "      <td>4.7</td>\n",
       "    </tr>\n",
       "    <tr>\n",
       "      <th>4</th>\n",
       "      <td>Meringue pour les nuls</td>\n",
       "      <td>Dessert</td>\n",
       "      <td>4.8</td>\n",
       "    </tr>\n",
       "  </tbody>\n",
       "</table>\n",
       "</div>"
      ],
      "text/plain": [
       "                                                   titre            type  note\n",
       "2550                      Ramequins fondants au chocolat         Dessert   4.8\n",
       "423                      'The' tarte au citron meringuée         Dessert   4.7\n",
       "24                          Tiramisu (recette originale)         Dessert   4.8\n",
       "45                             Blanquette de veau facile  Plat principal   4.9\n",
       "1               Le crumble aux pommes du Chat qui Tousse         Dessert   4.8\n",
       "172                                     Gâteau au yaourt         Dessert   4.6\n",
       "26                        Véritable moelleux au chocolat         Dessert   4.6\n",
       "16468  Les Timbales de Jeanne (saumon à la mousse de ...          Entrée   4.8\n",
       "117                             Gâteau aux pommes facile         Dessert   4.7\n",
       "4                                 Meringue pour les nuls         Dessert   4.8"
      ]
     },
     "execution_count": 11,
     "metadata": {},
     "output_type": "execute_result"
    }
   ],
   "source": [
    "df.sort_values('nombre_commentaires', ascending=False)[['titre', 'type', 'note']].head(10)"
   ]
  },
  {
   "cell_type": "markdown",
   "metadata": {},
   "source": [
    "Then, regarding the top 100 recipes, we look at the favorite types of recipes."
   ]
  },
  {
   "cell_type": "code",
   "execution_count": 12,
   "metadata": {},
   "outputs": [
    {
     "data": {
      "text/plain": [
       "<matplotlib.axes._subplots.AxesSubplot at 0x7f4f552117f0>"
      ]
     },
     "execution_count": 12,
     "metadata": {},
     "output_type": "execute_result"
    },
    {
     "data": {
      "image/png": "[encoded data removed]",
      "text/plain": [
       "<Figure size 720x720 with 1 Axes>"
      ]
     },
     "metadata": {},
     "output_type": "display_data"
    }
   ],
   "source": [
    "df.sort_values('nombre_commentaires', ascending=False).head(100).groupby('type').size().plot.pie(figsize=(10,10), title='Prefered types in top 100')"
   ]
  }
 ],
 "metadata": {
  "kernelspec": {
   "display_name": "Python 3",
   "language": "python",
   "name": "python3"
  },
  "language_info": {
   "codemirror_mode": {
    "name": "ipython",
    "version": 3
   },
   "file_extension": ".py",
   "mimetype": "text/x-python",
   "name": "python",
   "nbconvert_exporter": "python",
   "pygments_lexer": "ipython3",
   "version": "3.7.3"
  }
 },
 "nbformat": 4,
 "nbformat_minor": 2
}
